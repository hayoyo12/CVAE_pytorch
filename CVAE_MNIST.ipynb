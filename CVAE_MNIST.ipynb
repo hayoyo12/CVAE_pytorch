{
  "nbformat": 4,
  "nbformat_minor": 0,
  "metadata": {
    "colab": {
      "name": "CVAE_MNIST.ipynb",
      "provenance": []
    },
    "kernelspec": {
      "name": "python3",
      "display_name": "Python 3"
    },
    "accelerator": "GPU",
    "widgets": {
      "application/vnd.jupyter.widget-state+json": {
        "4085b554fa6843869e4b26c59c727649": {
          "model_module": "@jupyter-widgets/controls",
          "model_name": "HBoxModel",
          "state": {
            "_view_name": "HBoxView",
            "_dom_classes": [],
            "_model_name": "HBoxModel",
            "_view_module": "@jupyter-widgets/controls",
            "_model_module_version": "1.5.0",
            "_view_count": null,
            "_view_module_version": "1.5.0",
            "box_style": "",
            "layout": "IPY_MODEL_7de13c480bc145e9851c062c97f5cec1",
            "_model_module": "@jupyter-widgets/controls",
            "children": [
              "IPY_MODEL_b9b77ed0f86e4841881983c132af0f3a",
              "IPY_MODEL_4ee449f4a5f541be897ec26c4d870463"
            ]
          }
        },
        "7de13c480bc145e9851c062c97f5cec1": {
          "model_module": "@jupyter-widgets/base",
          "model_name": "LayoutModel",
          "state": {
            "_view_name": "LayoutView",
            "grid_template_rows": null,
            "right": null,
            "justify_content": null,
            "_view_module": "@jupyter-widgets/base",
            "overflow": null,
            "_model_module_version": "1.2.0",
            "_view_count": null,
            "flex_flow": null,
            "width": null,
            "min_width": null,
            "border": null,
            "align_items": null,
            "bottom": null,
            "_model_module": "@jupyter-widgets/base",
            "top": null,
            "grid_column": null,
            "overflow_y": null,
            "overflow_x": null,
            "grid_auto_flow": null,
            "grid_area": null,
            "grid_template_columns": null,
            "flex": null,
            "_model_name": "LayoutModel",
            "justify_items": null,
            "grid_row": null,
            "max_height": null,
            "align_content": null,
            "visibility": null,
            "align_self": null,
            "height": null,
            "min_height": null,
            "padding": null,
            "grid_auto_rows": null,
            "grid_gap": null,
            "max_width": null,
            "order": null,
            "_view_module_version": "1.2.0",
            "grid_template_areas": null,
            "object_position": null,
            "object_fit": null,
            "grid_auto_columns": null,
            "margin": null,
            "display": null,
            "left": null
          }
        },
        "b9b77ed0f86e4841881983c132af0f3a": {
          "model_module": "@jupyter-widgets/controls",
          "model_name": "FloatProgressModel",
          "state": {
            "_view_name": "ProgressView",
            "style": "IPY_MODEL_6a6120c6f908417a934594533375fc11",
            "_dom_classes": [],
            "description": "",
            "_model_name": "FloatProgressModel",
            "bar_style": "info",
            "max": 1,
            "_view_module": "@jupyter-widgets/controls",
            "_model_module_version": "1.5.0",
            "value": 1,
            "_view_count": null,
            "_view_module_version": "1.5.0",
            "orientation": "horizontal",
            "min": 0,
            "description_tooltip": null,
            "_model_module": "@jupyter-widgets/controls",
            "layout": "IPY_MODEL_1a7d83e7c78f4300af86a7da08019a1b"
          }
        },
        "4ee449f4a5f541be897ec26c4d870463": {
          "model_module": "@jupyter-widgets/controls",
          "model_name": "HTMLModel",
          "state": {
            "_view_name": "HTMLView",
            "style": "IPY_MODEL_7b7d8fb8c69e492ebb82c0e9364f8ba3",
            "_dom_classes": [],
            "description": "",
            "_model_name": "HTMLModel",
            "placeholder": "​",
            "_view_module": "@jupyter-widgets/controls",
            "_model_module_version": "1.5.0",
            "value": " 9920512/? [00:20&lt;00:00, 1493964.90it/s]",
            "_view_count": null,
            "_view_module_version": "1.5.0",
            "description_tooltip": null,
            "_model_module": "@jupyter-widgets/controls",
            "layout": "IPY_MODEL_322151bde74644708785e5f23159975d"
          }
        },
        "6a6120c6f908417a934594533375fc11": {
          "model_module": "@jupyter-widgets/controls",
          "model_name": "ProgressStyleModel",
          "state": {
            "_view_name": "StyleView",
            "_model_name": "ProgressStyleModel",
            "description_width": "initial",
            "_view_module": "@jupyter-widgets/base",
            "_model_module_version": "1.5.0",
            "_view_count": null,
            "_view_module_version": "1.2.0",
            "bar_color": null,
            "_model_module": "@jupyter-widgets/controls"
          }
        },
        "1a7d83e7c78f4300af86a7da08019a1b": {
          "model_module": "@jupyter-widgets/base",
          "model_name": "LayoutModel",
          "state": {
            "_view_name": "LayoutView",
            "grid_template_rows": null,
            "right": null,
            "justify_content": null,
            "_view_module": "@jupyter-widgets/base",
            "overflow": null,
            "_model_module_version": "1.2.0",
            "_view_count": null,
            "flex_flow": null,
            "width": null,
            "min_width": null,
            "border": null,
            "align_items": null,
            "bottom": null,
            "_model_module": "@jupyter-widgets/base",
            "top": null,
            "grid_column": null,
            "overflow_y": null,
            "overflow_x": null,
            "grid_auto_flow": null,
            "grid_area": null,
            "grid_template_columns": null,
            "flex": null,
            "_model_name": "LayoutModel",
            "justify_items": null,
            "grid_row": null,
            "max_height": null,
            "align_content": null,
            "visibility": null,
            "align_self": null,
            "height": null,
            "min_height": null,
            "padding": null,
            "grid_auto_rows": null,
            "grid_gap": null,
            "max_width": null,
            "order": null,
            "_view_module_version": "1.2.0",
            "grid_template_areas": null,
            "object_position": null,
            "object_fit": null,
            "grid_auto_columns": null,
            "margin": null,
            "display": null,
            "left": null
          }
        },
        "7b7d8fb8c69e492ebb82c0e9364f8ba3": {
          "model_module": "@jupyter-widgets/controls",
          "model_name": "DescriptionStyleModel",
          "state": {
            "_view_name": "StyleView",
            "_model_name": "DescriptionStyleModel",
            "description_width": "",
            "_view_module": "@jupyter-widgets/base",
            "_model_module_version": "1.5.0",
            "_view_count": null,
            "_view_module_version": "1.2.0",
            "_model_module": "@jupyter-widgets/controls"
          }
        },
        "322151bde74644708785e5f23159975d": {
          "model_module": "@jupyter-widgets/base",
          "model_name": "LayoutModel",
          "state": {
            "_view_name": "LayoutView",
            "grid_template_rows": null,
            "right": null,
            "justify_content": null,
            "_view_module": "@jupyter-widgets/base",
            "overflow": null,
            "_model_module_version": "1.2.0",
            "_view_count": null,
            "flex_flow": null,
            "width": null,
            "min_width": null,
            "border": null,
            "align_items": null,
            "bottom": null,
            "_model_module": "@jupyter-widgets/base",
            "top": null,
            "grid_column": null,
            "overflow_y": null,
            "overflow_x": null,
            "grid_auto_flow": null,
            "grid_area": null,
            "grid_template_columns": null,
            "flex": null,
            "_model_name": "LayoutModel",
            "justify_items": null,
            "grid_row": null,
            "max_height": null,
            "align_content": null,
            "visibility": null,
            "align_self": null,
            "height": null,
            "min_height": null,
            "padding": null,
            "grid_auto_rows": null,
            "grid_gap": null,
            "max_width": null,
            "order": null,
            "_view_module_version": "1.2.0",
            "grid_template_areas": null,
            "object_position": null,
            "object_fit": null,
            "grid_auto_columns": null,
            "margin": null,
            "display": null,
            "left": null
          }
        },
        "2407df4817fd4b1c90654807f35c3424": {
          "model_module": "@jupyter-widgets/controls",
          "model_name": "HBoxModel",
          "state": {
            "_view_name": "HBoxView",
            "_dom_classes": [],
            "_model_name": "HBoxModel",
            "_view_module": "@jupyter-widgets/controls",
            "_model_module_version": "1.5.0",
            "_view_count": null,
            "_view_module_version": "1.5.0",
            "box_style": "",
            "layout": "IPY_MODEL_ab94930794d4415788b055f3a1600a51",
            "_model_module": "@jupyter-widgets/controls",
            "children": [
              "IPY_MODEL_1a0c578734dd4994ac61beef956fbd1b",
              "IPY_MODEL_84563b32399b4ae38b80e2f919931e81"
            ]
          }
        },
        "ab94930794d4415788b055f3a1600a51": {
          "model_module": "@jupyter-widgets/base",
          "model_name": "LayoutModel",
          "state": {
            "_view_name": "LayoutView",
            "grid_template_rows": null,
            "right": null,
            "justify_content": null,
            "_view_module": "@jupyter-widgets/base",
            "overflow": null,
            "_model_module_version": "1.2.0",
            "_view_count": null,
            "flex_flow": null,
            "width": null,
            "min_width": null,
            "border": null,
            "align_items": null,
            "bottom": null,
            "_model_module": "@jupyter-widgets/base",
            "top": null,
            "grid_column": null,
            "overflow_y": null,
            "overflow_x": null,
            "grid_auto_flow": null,
            "grid_area": null,
            "grid_template_columns": null,
            "flex": null,
            "_model_name": "LayoutModel",
            "justify_items": null,
            "grid_row": null,
            "max_height": null,
            "align_content": null,
            "visibility": null,
            "align_self": null,
            "height": null,
            "min_height": null,
            "padding": null,
            "grid_auto_rows": null,
            "grid_gap": null,
            "max_width": null,
            "order": null,
            "_view_module_version": "1.2.0",
            "grid_template_areas": null,
            "object_position": null,
            "object_fit": null,
            "grid_auto_columns": null,
            "margin": null,
            "display": null,
            "left": null
          }
        },
        "1a0c578734dd4994ac61beef956fbd1b": {
          "model_module": "@jupyter-widgets/controls",
          "model_name": "FloatProgressModel",
          "state": {
            "_view_name": "ProgressView",
            "style": "IPY_MODEL_02b0758d2b614dc497fdf54e6a50f705",
            "_dom_classes": [],
            "description": "",
            "_model_name": "FloatProgressModel",
            "bar_style": "success",
            "max": 1,
            "_view_module": "@jupyter-widgets/controls",
            "_model_module_version": "1.5.0",
            "value": 1,
            "_view_count": null,
            "_view_module_version": "1.5.0",
            "orientation": "horizontal",
            "min": 0,
            "description_tooltip": null,
            "_model_module": "@jupyter-widgets/controls",
            "layout": "IPY_MODEL_f4d9de0b1b0343338593f0e5e95eb2c3"
          }
        },
        "84563b32399b4ae38b80e2f919931e81": {
          "model_module": "@jupyter-widgets/controls",
          "model_name": "HTMLModel",
          "state": {
            "_view_name": "HTMLView",
            "style": "IPY_MODEL_e73e0ef569434832ac678559e20574ba",
            "_dom_classes": [],
            "description": "",
            "_model_name": "HTMLModel",
            "placeholder": "​",
            "_view_module": "@jupyter-widgets/controls",
            "_model_module_version": "1.5.0",
            "value": " 32768/? [00:00&lt;00:00, 112519.86it/s]",
            "_view_count": null,
            "_view_module_version": "1.5.0",
            "description_tooltip": null,
            "_model_module": "@jupyter-widgets/controls",
            "layout": "IPY_MODEL_8ee268d656a449f5b2a8e2c23196d933"
          }
        },
        "02b0758d2b614dc497fdf54e6a50f705": {
          "model_module": "@jupyter-widgets/controls",
          "model_name": "ProgressStyleModel",
          "state": {
            "_view_name": "StyleView",
            "_model_name": "ProgressStyleModel",
            "description_width": "initial",
            "_view_module": "@jupyter-widgets/base",
            "_model_module_version": "1.5.0",
            "_view_count": null,
            "_view_module_version": "1.2.0",
            "bar_color": null,
            "_model_module": "@jupyter-widgets/controls"
          }
        },
        "f4d9de0b1b0343338593f0e5e95eb2c3": {
          "model_module": "@jupyter-widgets/base",
          "model_name": "LayoutModel",
          "state": {
            "_view_name": "LayoutView",
            "grid_template_rows": null,
            "right": null,
            "justify_content": null,
            "_view_module": "@jupyter-widgets/base",
            "overflow": null,
            "_model_module_version": "1.2.0",
            "_view_count": null,
            "flex_flow": null,
            "width": null,
            "min_width": null,
            "border": null,
            "align_items": null,
            "bottom": null,
            "_model_module": "@jupyter-widgets/base",
            "top": null,
            "grid_column": null,
            "overflow_y": null,
            "overflow_x": null,
            "grid_auto_flow": null,
            "grid_area": null,
            "grid_template_columns": null,
            "flex": null,
            "_model_name": "LayoutModel",
            "justify_items": null,
            "grid_row": null,
            "max_height": null,
            "align_content": null,
            "visibility": null,
            "align_self": null,
            "height": null,
            "min_height": null,
            "padding": null,
            "grid_auto_rows": null,
            "grid_gap": null,
            "max_width": null,
            "order": null,
            "_view_module_version": "1.2.0",
            "grid_template_areas": null,
            "object_position": null,
            "object_fit": null,
            "grid_auto_columns": null,
            "margin": null,
            "display": null,
            "left": null
          }
        },
        "e73e0ef569434832ac678559e20574ba": {
          "model_module": "@jupyter-widgets/controls",
          "model_name": "DescriptionStyleModel",
          "state": {
            "_view_name": "StyleView",
            "_model_name": "DescriptionStyleModel",
            "description_width": "",
            "_view_module": "@jupyter-widgets/base",
            "_model_module_version": "1.5.0",
            "_view_count": null,
            "_view_module_version": "1.2.0",
            "_model_module": "@jupyter-widgets/controls"
          }
        },
        "8ee268d656a449f5b2a8e2c23196d933": {
          "model_module": "@jupyter-widgets/base",
          "model_name": "LayoutModel",
          "state": {
            "_view_name": "LayoutView",
            "grid_template_rows": null,
            "right": null,
            "justify_content": null,
            "_view_module": "@jupyter-widgets/base",
            "overflow": null,
            "_model_module_version": "1.2.0",
            "_view_count": null,
            "flex_flow": null,
            "width": null,
            "min_width": null,
            "border": null,
            "align_items": null,
            "bottom": null,
            "_model_module": "@jupyter-widgets/base",
            "top": null,
            "grid_column": null,
            "overflow_y": null,
            "overflow_x": null,
            "grid_auto_flow": null,
            "grid_area": null,
            "grid_template_columns": null,
            "flex": null,
            "_model_name": "LayoutModel",
            "justify_items": null,
            "grid_row": null,
            "max_height": null,
            "align_content": null,
            "visibility": null,
            "align_self": null,
            "height": null,
            "min_height": null,
            "padding": null,
            "grid_auto_rows": null,
            "grid_gap": null,
            "max_width": null,
            "order": null,
            "_view_module_version": "1.2.0",
            "grid_template_areas": null,
            "object_position": null,
            "object_fit": null,
            "grid_auto_columns": null,
            "margin": null,
            "display": null,
            "left": null
          }
        },
        "0ed600f6cadb412eaaee01d86eeedcd7": {
          "model_module": "@jupyter-widgets/controls",
          "model_name": "HBoxModel",
          "state": {
            "_view_name": "HBoxView",
            "_dom_classes": [],
            "_model_name": "HBoxModel",
            "_view_module": "@jupyter-widgets/controls",
            "_model_module_version": "1.5.0",
            "_view_count": null,
            "_view_module_version": "1.5.0",
            "box_style": "",
            "layout": "IPY_MODEL_4287f31c0617481b9704dee3cdc8d510",
            "_model_module": "@jupyter-widgets/controls",
            "children": [
              "IPY_MODEL_0ca9cd317c014e639968f5b8873b740a",
              "IPY_MODEL_bbb6fd2076e2492cb780bd420eb5a7cb"
            ]
          }
        },
        "4287f31c0617481b9704dee3cdc8d510": {
          "model_module": "@jupyter-widgets/base",
          "model_name": "LayoutModel",
          "state": {
            "_view_name": "LayoutView",
            "grid_template_rows": null,
            "right": null,
            "justify_content": null,
            "_view_module": "@jupyter-widgets/base",
            "overflow": null,
            "_model_module_version": "1.2.0",
            "_view_count": null,
            "flex_flow": null,
            "width": null,
            "min_width": null,
            "border": null,
            "align_items": null,
            "bottom": null,
            "_model_module": "@jupyter-widgets/base",
            "top": null,
            "grid_column": null,
            "overflow_y": null,
            "overflow_x": null,
            "grid_auto_flow": null,
            "grid_area": null,
            "grid_template_columns": null,
            "flex": null,
            "_model_name": "LayoutModel",
            "justify_items": null,
            "grid_row": null,
            "max_height": null,
            "align_content": null,
            "visibility": null,
            "align_self": null,
            "height": null,
            "min_height": null,
            "padding": null,
            "grid_auto_rows": null,
            "grid_gap": null,
            "max_width": null,
            "order": null,
            "_view_module_version": "1.2.0",
            "grid_template_areas": null,
            "object_position": null,
            "object_fit": null,
            "grid_auto_columns": null,
            "margin": null,
            "display": null,
            "left": null
          }
        },
        "0ca9cd317c014e639968f5b8873b740a": {
          "model_module": "@jupyter-widgets/controls",
          "model_name": "FloatProgressModel",
          "state": {
            "_view_name": "ProgressView",
            "style": "IPY_MODEL_20301361c4cb4bf79b0bd140e5cfdc50",
            "_dom_classes": [],
            "description": "",
            "_model_name": "FloatProgressModel",
            "bar_style": "info",
            "max": 1,
            "_view_module": "@jupyter-widgets/controls",
            "_model_module_version": "1.5.0",
            "value": 1,
            "_view_count": null,
            "_view_module_version": "1.5.0",
            "orientation": "horizontal",
            "min": 0,
            "description_tooltip": null,
            "_model_module": "@jupyter-widgets/controls",
            "layout": "IPY_MODEL_665818aeb6c0425d89cb6bf1ded69211"
          }
        },
        "bbb6fd2076e2492cb780bd420eb5a7cb": {
          "model_module": "@jupyter-widgets/controls",
          "model_name": "HTMLModel",
          "state": {
            "_view_name": "HTMLView",
            "style": "IPY_MODEL_9a60f2a02fa4487792cbed3870a18f20",
            "_dom_classes": [],
            "description": "",
            "_model_name": "HTMLModel",
            "placeholder": "​",
            "_view_module": "@jupyter-widgets/controls",
            "_model_module_version": "1.5.0",
            "value": " 1654784/? [00:18&lt;00:00, 284946.27it/s]",
            "_view_count": null,
            "_view_module_version": "1.5.0",
            "description_tooltip": null,
            "_model_module": "@jupyter-widgets/controls",
            "layout": "IPY_MODEL_7d6f185e26cc438c924f482e26e79117"
          }
        },
        "20301361c4cb4bf79b0bd140e5cfdc50": {
          "model_module": "@jupyter-widgets/controls",
          "model_name": "ProgressStyleModel",
          "state": {
            "_view_name": "StyleView",
            "_model_name": "ProgressStyleModel",
            "description_width": "initial",
            "_view_module": "@jupyter-widgets/base",
            "_model_module_version": "1.5.0",
            "_view_count": null,
            "_view_module_version": "1.2.0",
            "bar_color": null,
            "_model_module": "@jupyter-widgets/controls"
          }
        },
        "665818aeb6c0425d89cb6bf1ded69211": {
          "model_module": "@jupyter-widgets/base",
          "model_name": "LayoutModel",
          "state": {
            "_view_name": "LayoutView",
            "grid_template_rows": null,
            "right": null,
            "justify_content": null,
            "_view_module": "@jupyter-widgets/base",
            "overflow": null,
            "_model_module_version": "1.2.0",
            "_view_count": null,
            "flex_flow": null,
            "width": null,
            "min_width": null,
            "border": null,
            "align_items": null,
            "bottom": null,
            "_model_module": "@jupyter-widgets/base",
            "top": null,
            "grid_column": null,
            "overflow_y": null,
            "overflow_x": null,
            "grid_auto_flow": null,
            "grid_area": null,
            "grid_template_columns": null,
            "flex": null,
            "_model_name": "LayoutModel",
            "justify_items": null,
            "grid_row": null,
            "max_height": null,
            "align_content": null,
            "visibility": null,
            "align_self": null,
            "height": null,
            "min_height": null,
            "padding": null,
            "grid_auto_rows": null,
            "grid_gap": null,
            "max_width": null,
            "order": null,
            "_view_module_version": "1.2.0",
            "grid_template_areas": null,
            "object_position": null,
            "object_fit": null,
            "grid_auto_columns": null,
            "margin": null,
            "display": null,
            "left": null
          }
        },
        "9a60f2a02fa4487792cbed3870a18f20": {
          "model_module": "@jupyter-widgets/controls",
          "model_name": "DescriptionStyleModel",
          "state": {
            "_view_name": "StyleView",
            "_model_name": "DescriptionStyleModel",
            "description_width": "",
            "_view_module": "@jupyter-widgets/base",
            "_model_module_version": "1.5.0",
            "_view_count": null,
            "_view_module_version": "1.2.0",
            "_model_module": "@jupyter-widgets/controls"
          }
        },
        "7d6f185e26cc438c924f482e26e79117": {
          "model_module": "@jupyter-widgets/base",
          "model_name": "LayoutModel",
          "state": {
            "_view_name": "LayoutView",
            "grid_template_rows": null,
            "right": null,
            "justify_content": null,
            "_view_module": "@jupyter-widgets/base",
            "overflow": null,
            "_model_module_version": "1.2.0",
            "_view_count": null,
            "flex_flow": null,
            "width": null,
            "min_width": null,
            "border": null,
            "align_items": null,
            "bottom": null,
            "_model_module": "@jupyter-widgets/base",
            "top": null,
            "grid_column": null,
            "overflow_y": null,
            "overflow_x": null,
            "grid_auto_flow": null,
            "grid_area": null,
            "grid_template_columns": null,
            "flex": null,
            "_model_name": "LayoutModel",
            "justify_items": null,
            "grid_row": null,
            "max_height": null,
            "align_content": null,
            "visibility": null,
            "align_self": null,
            "height": null,
            "min_height": null,
            "padding": null,
            "grid_auto_rows": null,
            "grid_gap": null,
            "max_width": null,
            "order": null,
            "_view_module_version": "1.2.0",
            "grid_template_areas": null,
            "object_position": null,
            "object_fit": null,
            "grid_auto_columns": null,
            "margin": null,
            "display": null,
            "left": null
          }
        },
        "f40a472996e04bf280530b71ba2ac18e": {
          "model_module": "@jupyter-widgets/controls",
          "model_name": "HBoxModel",
          "state": {
            "_view_name": "HBoxView",
            "_dom_classes": [],
            "_model_name": "HBoxModel",
            "_view_module": "@jupyter-widgets/controls",
            "_model_module_version": "1.5.0",
            "_view_count": null,
            "_view_module_version": "1.5.0",
            "box_style": "",
            "layout": "IPY_MODEL_042c449cdecf4c2ab750c0297f7715a2",
            "_model_module": "@jupyter-widgets/controls",
            "children": [
              "IPY_MODEL_c08875d223a347c9b68ec1ee56ff2b69",
              "IPY_MODEL_21a618df6c2d44c49cdb147f907790b4"
            ]
          }
        },
        "042c449cdecf4c2ab750c0297f7715a2": {
          "model_module": "@jupyter-widgets/base",
          "model_name": "LayoutModel",
          "state": {
            "_view_name": "LayoutView",
            "grid_template_rows": null,
            "right": null,
            "justify_content": null,
            "_view_module": "@jupyter-widgets/base",
            "overflow": null,
            "_model_module_version": "1.2.0",
            "_view_count": null,
            "flex_flow": null,
            "width": null,
            "min_width": null,
            "border": null,
            "align_items": null,
            "bottom": null,
            "_model_module": "@jupyter-widgets/base",
            "top": null,
            "grid_column": null,
            "overflow_y": null,
            "overflow_x": null,
            "grid_auto_flow": null,
            "grid_area": null,
            "grid_template_columns": null,
            "flex": null,
            "_model_name": "LayoutModel",
            "justify_items": null,
            "grid_row": null,
            "max_height": null,
            "align_content": null,
            "visibility": null,
            "align_self": null,
            "height": null,
            "min_height": null,
            "padding": null,
            "grid_auto_rows": null,
            "grid_gap": null,
            "max_width": null,
            "order": null,
            "_view_module_version": "1.2.0",
            "grid_template_areas": null,
            "object_position": null,
            "object_fit": null,
            "grid_auto_columns": null,
            "margin": null,
            "display": null,
            "left": null
          }
        },
        "c08875d223a347c9b68ec1ee56ff2b69": {
          "model_module": "@jupyter-widgets/controls",
          "model_name": "FloatProgressModel",
          "state": {
            "_view_name": "ProgressView",
            "style": "IPY_MODEL_d6c77156bf7a41c7959500f0ef6914e5",
            "_dom_classes": [],
            "description": "",
            "_model_name": "FloatProgressModel",
            "bar_style": "success",
            "max": 1,
            "_view_module": "@jupyter-widgets/controls",
            "_model_module_version": "1.5.0",
            "value": 1,
            "_view_count": null,
            "_view_module_version": "1.5.0",
            "orientation": "horizontal",
            "min": 0,
            "description_tooltip": null,
            "_model_module": "@jupyter-widgets/controls",
            "layout": "IPY_MODEL_c04db88b761949dfaa4bdd15046a873b"
          }
        },
        "21a618df6c2d44c49cdb147f907790b4": {
          "model_module": "@jupyter-widgets/controls",
          "model_name": "HTMLModel",
          "state": {
            "_view_name": "HTMLView",
            "style": "IPY_MODEL_084a120e3527416c972ee144de9e49e8",
            "_dom_classes": [],
            "description": "",
            "_model_name": "HTMLModel",
            "placeholder": "​",
            "_view_module": "@jupyter-widgets/controls",
            "_model_module_version": "1.5.0",
            "value": " 8192/? [00:00&lt;00:00, 19792.72it/s]",
            "_view_count": null,
            "_view_module_version": "1.5.0",
            "description_tooltip": null,
            "_model_module": "@jupyter-widgets/controls",
            "layout": "IPY_MODEL_4e51f8f33e3c44ffae124ade150c08d1"
          }
        },
        "d6c77156bf7a41c7959500f0ef6914e5": {
          "model_module": "@jupyter-widgets/controls",
          "model_name": "ProgressStyleModel",
          "state": {
            "_view_name": "StyleView",
            "_model_name": "ProgressStyleModel",
            "description_width": "initial",
            "_view_module": "@jupyter-widgets/base",
            "_model_module_version": "1.5.0",
            "_view_count": null,
            "_view_module_version": "1.2.0",
            "bar_color": null,
            "_model_module": "@jupyter-widgets/controls"
          }
        },
        "c04db88b761949dfaa4bdd15046a873b": {
          "model_module": "@jupyter-widgets/base",
          "model_name": "LayoutModel",
          "state": {
            "_view_name": "LayoutView",
            "grid_template_rows": null,
            "right": null,
            "justify_content": null,
            "_view_module": "@jupyter-widgets/base",
            "overflow": null,
            "_model_module_version": "1.2.0",
            "_view_count": null,
            "flex_flow": null,
            "width": null,
            "min_width": null,
            "border": null,
            "align_items": null,
            "bottom": null,
            "_model_module": "@jupyter-widgets/base",
            "top": null,
            "grid_column": null,
            "overflow_y": null,
            "overflow_x": null,
            "grid_auto_flow": null,
            "grid_area": null,
            "grid_template_columns": null,
            "flex": null,
            "_model_name": "LayoutModel",
            "justify_items": null,
            "grid_row": null,
            "max_height": null,
            "align_content": null,
            "visibility": null,
            "align_self": null,
            "height": null,
            "min_height": null,
            "padding": null,
            "grid_auto_rows": null,
            "grid_gap": null,
            "max_width": null,
            "order": null,
            "_view_module_version": "1.2.0",
            "grid_template_areas": null,
            "object_position": null,
            "object_fit": null,
            "grid_auto_columns": null,
            "margin": null,
            "display": null,
            "left": null
          }
        },
        "084a120e3527416c972ee144de9e49e8": {
          "model_module": "@jupyter-widgets/controls",
          "model_name": "DescriptionStyleModel",
          "state": {
            "_view_name": "StyleView",
            "_model_name": "DescriptionStyleModel",
            "description_width": "",
            "_view_module": "@jupyter-widgets/base",
            "_model_module_version": "1.5.0",
            "_view_count": null,
            "_view_module_version": "1.2.0",
            "_model_module": "@jupyter-widgets/controls"
          }
        },
        "4e51f8f33e3c44ffae124ade150c08d1": {
          "model_module": "@jupyter-widgets/base",
          "model_name": "LayoutModel",
          "state": {
            "_view_name": "LayoutView",
            "grid_template_rows": null,
            "right": null,
            "justify_content": null,
            "_view_module": "@jupyter-widgets/base",
            "overflow": null,
            "_model_module_version": "1.2.0",
            "_view_count": null,
            "flex_flow": null,
            "width": null,
            "min_width": null,
            "border": null,
            "align_items": null,
            "bottom": null,
            "_model_module": "@jupyter-widgets/base",
            "top": null,
            "grid_column": null,
            "overflow_y": null,
            "overflow_x": null,
            "grid_auto_flow": null,
            "grid_area": null,
            "grid_template_columns": null,
            "flex": null,
            "_model_name": "LayoutModel",
            "justify_items": null,
            "grid_row": null,
            "max_height": null,
            "align_content": null,
            "visibility": null,
            "align_self": null,
            "height": null,
            "min_height": null,
            "padding": null,
            "grid_auto_rows": null,
            "grid_gap": null,
            "max_width": null,
            "order": null,
            "_view_module_version": "1.2.0",
            "grid_template_areas": null,
            "object_position": null,
            "object_fit": null,
            "grid_auto_columns": null,
            "margin": null,
            "display": null,
            "left": null
          }
        }
      }
    }
  },
  "cells": [
    {
      "cell_type": "markdown",
      "metadata": {
        "id": "Bv8NcRFTns0C"
      },
      "source": [
        "## Conditional Variational Auto Encoder (**CVAE**) - Pytorch"
      ]
    },
    {
      "cell_type": "code",
      "metadata": {
        "id": "7g_3lg68npV5"
      },
      "source": [
        "import torch\n",
        "import torch.utils.data\n",
        "import numpy as np\n",
        "import matplotlib.pyplot as plt\n",
        "import matplotlib as mpl\n",
        "from torch import nn, optim\n",
        "from torch.nn import functional as F\n",
        "from torchvision import datasets, transforms\n",
        "from torchvision.utils import save_image"
      ],
      "execution_count": null,
      "outputs": []
    },
    {
      "cell_type": "markdown",
      "metadata": {
        "id": "Kpik4fkqpu2r"
      },
      "source": [
        "# Set Up GPU & Hyperparameters"
      ]
    },
    {
      "cell_type": "code",
      "metadata": {
        "id": "bsJegVzQpvE-"
      },
      "source": [
        "device = torch.device(\"cuda:0\" if torch.cuda.is_available() else \"cpu\")\n",
        "\n",
        "batch_size = 64\n",
        "latent_size = 20\n",
        "epochs = 10"
      ],
      "execution_count": null,
      "outputs": []
    },
    {
      "cell_type": "markdown",
      "metadata": {
        "id": "lOW4lhXuo15h"
      },
      "source": [
        "# Download Data and Set DataLoader"
      ]
    },
    {
      "cell_type": "code",
      "metadata": {
        "id": "cnUKbaAzovOA",
        "colab": {
          "base_uri": "https://localhost:8080/",
          "height": 399,
          "referenced_widgets": [
            "4085b554fa6843869e4b26c59c727649",
            "7de13c480bc145e9851c062c97f5cec1",
            "b9b77ed0f86e4841881983c132af0f3a",
            "4ee449f4a5f541be897ec26c4d870463",
            "6a6120c6f908417a934594533375fc11",
            "1a7d83e7c78f4300af86a7da08019a1b",
            "7b7d8fb8c69e492ebb82c0e9364f8ba3",
            "322151bde74644708785e5f23159975d",
            "2407df4817fd4b1c90654807f35c3424",
            "ab94930794d4415788b055f3a1600a51",
            "1a0c578734dd4994ac61beef956fbd1b",
            "84563b32399b4ae38b80e2f919931e81",
            "02b0758d2b614dc497fdf54e6a50f705",
            "f4d9de0b1b0343338593f0e5e95eb2c3",
            "e73e0ef569434832ac678559e20574ba",
            "8ee268d656a449f5b2a8e2c23196d933",
            "0ed600f6cadb412eaaee01d86eeedcd7",
            "4287f31c0617481b9704dee3cdc8d510",
            "0ca9cd317c014e639968f5b8873b740a",
            "bbb6fd2076e2492cb780bd420eb5a7cb",
            "20301361c4cb4bf79b0bd140e5cfdc50",
            "665818aeb6c0425d89cb6bf1ded69211",
            "9a60f2a02fa4487792cbed3870a18f20",
            "7d6f185e26cc438c924f482e26e79117",
            "f40a472996e04bf280530b71ba2ac18e",
            "042c449cdecf4c2ab750c0297f7715a2",
            "c08875d223a347c9b68ec1ee56ff2b69",
            "21a618df6c2d44c49cdb147f907790b4",
            "d6c77156bf7a41c7959500f0ef6914e5",
            "c04db88b761949dfaa4bdd15046a873b",
            "084a120e3527416c972ee144de9e49e8",
            "4e51f8f33e3c44ffae124ade150c08d1"
          ]
        },
        "outputId": "2c7796c4-4e26-4809-d12f-b151a3118dc1"
      },
      "source": [
        "train_loader = torch.utils.data.DataLoader(\n",
        "    datasets.MNIST('../data', train=True, download=True,\n",
        "                   transform=transforms.ToTensor(), target_transform=None),\n",
        "    batch_size=batch_size, shuffle=True)\n",
        "\n",
        "test_loader = torch.utils.data.DataLoader(\n",
        "    datasets.MNIST('../data', train=False, transform=transforms.ToTensor(), target_transform=None),\n",
        "    batch_size=batch_size, shuffle=False)"
      ],
      "execution_count": null,
      "outputs": [
        {
          "output_type": "stream",
          "text": [
            "Downloading http://yann.lecun.com/exdb/mnist/train-images-idx3-ubyte.gz to ../data/MNIST/raw/train-images-idx3-ubyte.gz\n"
          ],
          "name": "stdout"
        },
        {
          "output_type": "display_data",
          "data": {
            "application/vnd.jupyter.widget-view+json": {
              "model_id": "4085b554fa6843869e4b26c59c727649",
              "version_minor": 0,
              "version_major": 2
            },
            "text/plain": [
              "HBox(children=(FloatProgress(value=1.0, bar_style='info', max=1.0), HTML(value='')))"
            ]
          },
          "metadata": {
            "tags": []
          }
        },
        {
          "output_type": "stream",
          "text": [
            "Extracting ../data/MNIST/raw/train-images-idx3-ubyte.gz to ../data/MNIST/raw\n",
            "Downloading http://yann.lecun.com/exdb/mnist/train-labels-idx1-ubyte.gz to ../data/MNIST/raw/train-labels-idx1-ubyte.gz\n"
          ],
          "name": "stdout"
        },
        {
          "output_type": "display_data",
          "data": {
            "application/vnd.jupyter.widget-view+json": {
              "model_id": "2407df4817fd4b1c90654807f35c3424",
              "version_minor": 0,
              "version_major": 2
            },
            "text/plain": [
              "HBox(children=(FloatProgress(value=1.0, bar_style='info', max=1.0), HTML(value='')))"
            ]
          },
          "metadata": {
            "tags": []
          }
        },
        {
          "output_type": "stream",
          "text": [
            "Extracting ../data/MNIST/raw/train-labels-idx1-ubyte.gz to ../data/MNIST/raw\n",
            "Downloading http://yann.lecun.com/exdb/mnist/t10k-images-idx3-ubyte.gz to ../data/MNIST/raw/t10k-images-idx3-ubyte.gz\n",
            "\n"
          ],
          "name": "stdout"
        },
        {
          "output_type": "display_data",
          "data": {
            "application/vnd.jupyter.widget-view+json": {
              "model_id": "0ed600f6cadb412eaaee01d86eeedcd7",
              "version_minor": 0,
              "version_major": 2
            },
            "text/plain": [
              "HBox(children=(FloatProgress(value=1.0, bar_style='info', max=1.0), HTML(value='')))"
            ]
          },
          "metadata": {
            "tags": []
          }
        },
        {
          "output_type": "stream",
          "text": [
            "Extracting ../data/MNIST/raw/t10k-images-idx3-ubyte.gz to ../data/MNIST/raw\n",
            "Downloading http://yann.lecun.com/exdb/mnist/t10k-labels-idx1-ubyte.gz to ../data/MNIST/raw/t10k-labels-idx1-ubyte.gz\n"
          ],
          "name": "stdout"
        },
        {
          "output_type": "display_data",
          "data": {
            "application/vnd.jupyter.widget-view+json": {
              "model_id": "f40a472996e04bf280530b71ba2ac18e",
              "version_minor": 0,
              "version_major": 2
            },
            "text/plain": [
              "HBox(children=(FloatProgress(value=1.0, bar_style='info', max=1.0), HTML(value='')))"
            ]
          },
          "metadata": {
            "tags": []
          }
        },
        {
          "output_type": "stream",
          "text": [
            "Extracting ../data/MNIST/raw/t10k-labels-idx1-ubyte.gz to ../data/MNIST/raw\n",
            "Processing...\n",
            "Done!\n"
          ],
          "name": "stdout"
        },
        {
          "output_type": "stream",
          "text": [
            "/usr/local/lib/python3.6/dist-packages/torchvision/datasets/mnist.py:469: UserWarning: The given NumPy array is not writeable, and PyTorch does not support non-writeable tensors. This means you can write to the underlying (supposedly non-writeable) NumPy array using the tensor. You may want to copy the array to protect its data or make it writeable before converting it to a tensor. This type of warning will be suppressed for the rest of this program. (Triggered internally at  /pytorch/torch/csrc/utils/tensor_numpy.cpp:141.)\n",
            "  return torch.from_numpy(parsed.astype(m[2], copy=False)).view(*s)\n"
          ],
          "name": "stderr"
        }
      ]
    },
    {
      "cell_type": "markdown",
      "metadata": {
        "id": "TK2_v5OYqbme"
      },
      "source": [
        "# Add Condition"
      ]
    },
    {
      "cell_type": "code",
      "metadata": {
        "id": "-PvAWNhUovf_"
      },
      "source": [
        "# 원하는 label을 condition으로 넣어준다 (여기서는 0~9 중 하나)\n",
        "def one_hot(labels, class_size):\n",
        "  targets = torch.zeros(labels.size(0), class_size)\n",
        "  for i, label in enumerate(labels):\n",
        "    targets[i, label] = 1\n",
        "  return targets.to(device)"
      ],
      "execution_count": null,
      "outputs": []
    },
    {
      "cell_type": "markdown",
      "metadata": {
        "id": "0WCHnbDWrpVC"
      },
      "source": [
        "# **Build Model**"
      ]
    },
    {
      "cell_type": "code",
      "metadata": {
        "id": "n5o3Ciz-q6YB"
      },
      "source": [
        "# encoder: 784(28*28) -> 512 -> 256\n",
        "# sampling: 256 -> 10\n",
        "# decoder: 10 -> 256 -> 512 -> 784(28*28)\n",
        "\n",
        "class CVAE(nn.Module):\n",
        "  def __init__(self, feature_size,  latent_size, class_size):\n",
        "    super(CVAE, self).__init__()\n",
        "    self.feature_size = feature_size\n",
        "    self.class_size = class_size\n",
        "\n",
        "    #Encoder\n",
        "    self.encoder = nn.Sequential(\n",
        "        nn.Linear(feature_size + class_size, 512),\n",
        "        nn.ReLU(),\n",
        "        nn.Linear(512, 256),\n",
        "        nn.ReLU()\n",
        "    )\n",
        "    self.fc_mu = nn.Linear(256, latent_size) # 평균\n",
        "    self.fc_var = nn.Linear(256, latent_size) # 분산\n",
        "\n",
        "    #Decoder\n",
        "    self.decoder = nn.Sequential(\n",
        "        nn.Linear(latent_size + class_size, 256),\n",
        "        nn.ReLU(),\n",
        "        nn.Linear(256, 512),\n",
        "        nn.ReLU(),\n",
        "        nn.Linear(512, feature_size),\n",
        "        nn.Sigmoid()\n",
        "    )\n",
        "\n",
        "  def encode(self, x, c):\n",
        "    # Q(z|x, c)\n",
        "    inputs = torch.cat([x, c], 1) # 1-dim으로 펴준다\n",
        "    h = self.encoder(inputs)\n",
        "    z_mu = self.fc_mu(h)\n",
        "    z_var = self.fc_var(h)\n",
        "    return z_mu, z_var\n",
        "  \n",
        "  def reparameterize(self, mu, logvar):\n",
        "    std = torch.exp(0.5*logvar)\n",
        "    eps = torch.randn_like(std)\n",
        "    return mu + eps*std\n",
        "  \n",
        "  def decode(self, z, c):\n",
        "    # P(x|z, c)\n",
        "    inputs = torch.cat([z, c], 1)\n",
        "    recon = self.decoder(inputs)\n",
        "    return recon\n",
        "  \n",
        "  def forward(self, x, c):\n",
        "    mu, logvar = self.encode(x.view(-1, 28*28), c)\n",
        "    z = self.reparameterize(mu, logvar)\n",
        "    out = self.decode(z, c)\n",
        "    return out, mu, logvar"
      ],
      "execution_count": null,
      "outputs": []
    },
    {
      "cell_type": "markdown",
      "metadata": {
        "id": "PyTWqslszLhX"
      },
      "source": [
        "# Loss Function & Optimizer"
      ]
    },
    {
      "cell_type": "code",
      "metadata": {
        "id": "_2jvNJdbuQwA"
      },
      "source": [
        "def loss_function(recon_x, x, mu, logvar):\n",
        "  BCE = F.binary_cross_entropy(recon_x, x.view(-1, 784), reduction='sum')\n",
        "  KLD = -0.5* torch.sum(1 + logvar - mu.pow(2) - logvar.exp())\n",
        "  return BCE + KLD"
      ],
      "execution_count": null,
      "outputs": []
    },
    {
      "cell_type": "code",
      "metadata": {
        "id": "8xdOy9OJrdin"
      },
      "source": [
        "model = CVAE(28*28, latent_size, 10).to(device)\n",
        "optimizer = optim.Adam(model.parameters(), lr=1e-3)"
      ],
      "execution_count": null,
      "outputs": []
    },
    {
      "cell_type": "markdown",
      "metadata": {
        "id": "zhw6DIbEr1WW"
      },
      "source": [
        "## Train"
      ]
    },
    {
      "cell_type": "code",
      "metadata": {
        "id": "A8ZcMBCSrg3f"
      },
      "source": [
        "def train(epoch):\n",
        "  model.train()\n",
        "  train_loss = 0\n",
        "  for batch_idx, (data, labels) in enumerate(train_loader):\n",
        "    data, labels = data.to(device), labels.to(device)\n",
        "    labels = one_hot(labels, 10) #Condition\n",
        "    recon_batch, mu, logvar = model(data, labels)\n",
        "\n",
        "    optimizer.zero_grad()\n",
        "    loss = loss_function(recon_batch, data, mu, logvar)\n",
        "    loss.backward()\n",
        "    \n",
        "    train_loss += loss.detach().cpu().numpy()\n",
        "    optimizer.step()\n",
        "\n",
        "    if batch_idx % 100 == 0:\n",
        "      print('Train Epoch: {} [{}/{}]\\tLoss: {:.6f}'.format(\n",
        "                epoch, batch_idx * len(data), len(train_loader.dataset),\n",
        "                loss.item() / len(data)))\n",
        "    \n",
        "      print('====> Epoch: {} Average loss: {:.4f}'.format(\n",
        "          epoch, train_loss / len(train_loader.dataset)))"
      ],
      "execution_count": null,
      "outputs": []
    },
    {
      "cell_type": "markdown",
      "metadata": {
        "id": "NEQzIV2zurPv"
      },
      "source": [
        "## Test"
      ]
    },
    {
      "cell_type": "code",
      "metadata": {
        "id": "6oEMJ-M64SB1",
        "colab": {
          "base_uri": "https://localhost:8080/",
          "height": 55
        },
        "outputId": "0b20a3c8-62bd-45fe-f405-9bd721223c2c"
      },
      "source": [
        "from google.colab import drive\n",
        "drive.mount('/content/gdrive/')\n",
        "path = F\"/content/gdrive/My Drive\""
      ],
      "execution_count": null,
      "outputs": [
        {
          "output_type": "stream",
          "text": [
            "Drive already mounted at /content/gdrive/; to attempt to forcibly remount, call drive.mount(\"/content/gdrive/\", force_remount=True).\n"
          ],
          "name": "stdout"
        }
      ]
    },
    {
      "cell_type": "code",
      "metadata": {
        "id": "rX63D1lCuvUg"
      },
      "source": [
        "def test(epoch):\n",
        "  model.eval()\n",
        "  test_loss = 0\n",
        "  with torch.no_grad():\n",
        "    for i, (data, labels) in enumerate(test_loader):\n",
        "      data, labels = data.to(device), labels.to(device)\n",
        "      labels = one_hot(labels, 10)\n",
        "      recon_batch, mu, logvar = model(data, labels)\n",
        "      test_loss += loss_function(recon_batch, data, mu, logvar).detach().cpu().numpy()\n",
        "      if i ==0:\n",
        "        n =min(data.size(0), 5)\n",
        "        comparison = torch.cat([data[:n],\n",
        "                                recon_batch.view(-1, 1, 28, 28)[:n]])\n",
        "        save_image(comparison.cpu(),\n",
        "                   'reconstruction_' + str(epoch) + '.png', nrow=n)\n",
        "    \n",
        "    test_loss /= len(test_loader.dataset)\n",
        "    print('====> Test set loss: {:.4f}'.format(test_loss))"
      ],
      "execution_count": null,
      "outputs": []
    },
    {
      "cell_type": "code",
      "metadata": {
        "id": "W1EHvfS0sE6S",
        "colab": {
          "base_uri": "https://localhost:8080/",
          "height": 1000
        },
        "outputId": "5209c09a-ac43-4691-dfcc-288519628e6a"
      },
      "source": [
        "for epoch in range(1, epochs + 1):\n",
        "        train(epoch)\n",
        "        test(epoch)\n",
        "        with torch.no_grad():\n",
        "            c = torch.eye(10, 10).cuda()\n",
        "            sample = torch.randn(10, 20).to(device)\n",
        "            sample = model.decode(sample, c).cpu()\n",
        "            save_image(sample.view(10, 1, 28, 28),\n",
        "                       'sample_' + str(epoch) + '.png')"
      ],
      "execution_count": null,
      "outputs": [
        {
          "output_type": "stream",
          "text": [
            "Train Epoch: 1 [0/60000]\tLoss: 89.070122\n",
            "====> Epoch: 1 Average loss: 0.0950\n",
            "Train Epoch: 1 [6400/60000]\tLoss: 89.744400\n",
            "====> Epoch: 1 Average loss: 9.8224\n",
            "Train Epoch: 1 [12800/60000]\tLoss: 91.170189\n",
            "====> Epoch: 1 Average loss: 19.6386\n",
            "Train Epoch: 1 [19200/60000]\tLoss: 87.449814\n",
            "====> Epoch: 1 Average loss: 29.4030\n",
            "Train Epoch: 1 [25600/60000]\tLoss: 89.897621\n",
            "====> Epoch: 1 Average loss: 39.2184\n",
            "Train Epoch: 1 [32000/60000]\tLoss: 91.265015\n",
            "====> Epoch: 1 Average loss: 49.0401\n",
            "Train Epoch: 1 [38400/60000]\tLoss: 92.518311\n",
            "====> Epoch: 1 Average loss: 58.8655\n",
            "Train Epoch: 1 [44800/60000]\tLoss: 92.403885\n",
            "====> Epoch: 1 Average loss: 68.6851\n",
            "Train Epoch: 1 [51200/60000]\tLoss: 90.678917\n",
            "====> Epoch: 1 Average loss: 78.4290\n",
            "Train Epoch: 1 [57600/60000]\tLoss: 95.128967\n",
            "====> Epoch: 1 Average loss: 88.2764\n",
            "====> Test set loss: 94.2502\n",
            "Train Epoch: 2 [0/60000]\tLoss: 92.964066\n",
            "====> Epoch: 2 Average loss: 0.0992\n",
            "Train Epoch: 2 [6400/60000]\tLoss: 94.003601\n",
            "====> Epoch: 2 Average loss: 9.9238\n",
            "Train Epoch: 2 [12800/60000]\tLoss: 94.614677\n",
            "====> Epoch: 2 Average loss: 19.6822\n",
            "Train Epoch: 2 [19200/60000]\tLoss: 92.849152\n",
            "====> Epoch: 2 Average loss: 29.5199\n",
            "Train Epoch: 2 [25600/60000]\tLoss: 94.951698\n",
            "====> Epoch: 2 Average loss: 39.2742\n",
            "Train Epoch: 2 [32000/60000]\tLoss: 90.165192\n",
            "====> Epoch: 2 Average loss: 49.0931\n",
            "Train Epoch: 2 [38400/60000]\tLoss: 89.600174\n",
            "====> Epoch: 2 Average loss: 58.8625\n",
            "Train Epoch: 2 [44800/60000]\tLoss: 94.726028\n",
            "====> Epoch: 2 Average loss: 68.6709\n",
            "Train Epoch: 2 [51200/60000]\tLoss: 92.754532\n",
            "====> Epoch: 2 Average loss: 78.3860\n",
            "Train Epoch: 2 [57600/60000]\tLoss: 93.495575\n",
            "====> Epoch: 2 Average loss: 88.2143\n",
            "====> Test set loss: 94.7763\n",
            "Train Epoch: 3 [0/60000]\tLoss: 92.717834\n",
            "====> Epoch: 3 Average loss: 0.0989\n",
            "Train Epoch: 3 [6400/60000]\tLoss: 88.284058\n",
            "====> Epoch: 3 Average loss: 9.7926\n",
            "Train Epoch: 3 [12800/60000]\tLoss: 90.083351\n",
            "====> Epoch: 3 Average loss: 19.5642\n",
            "Train Epoch: 3 [19200/60000]\tLoss: 93.312607\n",
            "====> Epoch: 3 Average loss: 29.3250\n",
            "Train Epoch: 3 [25600/60000]\tLoss: 94.474564\n",
            "====> Epoch: 3 Average loss: 39.0818\n",
            "Train Epoch: 3 [32000/60000]\tLoss: 93.459290\n",
            "====> Epoch: 3 Average loss: 48.9073\n",
            "Train Epoch: 3 [38400/60000]\tLoss: 89.624039\n",
            "====> Epoch: 3 Average loss: 58.6807\n",
            "Train Epoch: 3 [44800/60000]\tLoss: 92.633102\n",
            "====> Epoch: 3 Average loss: 68.4825\n",
            "Train Epoch: 3 [51200/60000]\tLoss: 88.862259\n",
            "====> Epoch: 3 Average loss: 78.3467\n",
            "Train Epoch: 3 [57600/60000]\tLoss: 92.321716\n",
            "====> Epoch: 3 Average loss: 88.1599\n",
            "====> Test set loss: 94.4851\n",
            "Train Epoch: 4 [0/60000]\tLoss: 93.105743\n",
            "====> Epoch: 4 Average loss: 0.0993\n",
            "Train Epoch: 4 [6400/60000]\tLoss: 90.560043\n",
            "====> Epoch: 4 Average loss: 9.8591\n",
            "Train Epoch: 4 [12800/60000]\tLoss: 93.957626\n",
            "====> Epoch: 4 Average loss: 19.5997\n",
            "Train Epoch: 4 [19200/60000]\tLoss: 86.210037\n",
            "====> Epoch: 4 Average loss: 29.3355\n",
            "Train Epoch: 4 [25600/60000]\tLoss: 93.568977\n",
            "====> Epoch: 4 Average loss: 39.1611\n",
            "Train Epoch: 4 [32000/60000]\tLoss: 86.859985\n",
            "====> Epoch: 4 Average loss: 48.9579\n",
            "Train Epoch: 4 [38400/60000]\tLoss: 94.370064\n",
            "====> Epoch: 4 Average loss: 58.7300\n",
            "Train Epoch: 4 [44800/60000]\tLoss: 94.653824\n",
            "====> Epoch: 4 Average loss: 68.5198\n",
            "Train Epoch: 4 [51200/60000]\tLoss: 95.616547\n",
            "====> Epoch: 4 Average loss: 78.4024\n",
            "Train Epoch: 4 [57600/60000]\tLoss: 92.291046\n",
            "====> Epoch: 4 Average loss: 88.1784\n",
            "====> Test set loss: 94.4810\n",
            "Train Epoch: 5 [0/60000]\tLoss: 88.056259\n",
            "====> Epoch: 5 Average loss: 0.0939\n",
            "Train Epoch: 5 [6400/60000]\tLoss: 90.208252\n",
            "====> Epoch: 5 Average loss: 9.8170\n",
            "Train Epoch: 5 [12800/60000]\tLoss: 91.399628\n",
            "====> Epoch: 5 Average loss: 19.6431\n",
            "Train Epoch: 5 [19200/60000]\tLoss: 94.538727\n",
            "====> Epoch: 5 Average loss: 29.4084\n",
            "Train Epoch: 5 [25600/60000]\tLoss: 94.809341\n",
            "====> Epoch: 5 Average loss: 39.2482\n",
            "Train Epoch: 5 [32000/60000]\tLoss: 91.370445\n",
            "====> Epoch: 5 Average loss: 49.0038\n",
            "Train Epoch: 5 [38400/60000]\tLoss: 92.528381\n",
            "====> Epoch: 5 Average loss: 58.7450\n",
            "Train Epoch: 5 [44800/60000]\tLoss: 87.841850\n",
            "====> Epoch: 5 Average loss: 68.5742\n",
            "Train Epoch: 5 [51200/60000]\tLoss: 94.447800\n",
            "====> Epoch: 5 Average loss: 78.2786\n",
            "Train Epoch: 5 [57600/60000]\tLoss: 92.815536\n",
            "====> Epoch: 5 Average loss: 88.0878\n",
            "====> Test set loss: 94.6131\n",
            "Train Epoch: 6 [0/60000]\tLoss: 92.224915\n",
            "====> Epoch: 6 Average loss: 0.0984\n",
            "Train Epoch: 6 [6400/60000]\tLoss: 89.942131\n",
            "====> Epoch: 6 Average loss: 9.8468\n",
            "Train Epoch: 6 [12800/60000]\tLoss: 93.194809\n",
            "====> Epoch: 6 Average loss: 19.6330\n",
            "Train Epoch: 6 [19200/60000]\tLoss: 86.021217\n",
            "====> Epoch: 6 Average loss: 29.4505\n",
            "Train Epoch: 6 [25600/60000]\tLoss: 93.117218\n",
            "====> Epoch: 6 Average loss: 39.2205\n",
            "Train Epoch: 6 [32000/60000]\tLoss: 93.881180\n",
            "====> Epoch: 6 Average loss: 48.9861\n",
            "Train Epoch: 6 [38400/60000]\tLoss: 94.799606\n",
            "====> Epoch: 6 Average loss: 58.7805\n",
            "Train Epoch: 6 [44800/60000]\tLoss: 93.324516\n",
            "====> Epoch: 6 Average loss: 68.5309\n",
            "Train Epoch: 6 [51200/60000]\tLoss: 92.366699\n",
            "====> Epoch: 6 Average loss: 78.2920\n",
            "Train Epoch: 6 [57600/60000]\tLoss: 93.273987\n",
            "====> Epoch: 6 Average loss: 88.0765\n",
            "====> Test set loss: 94.3885\n",
            "Train Epoch: 7 [0/60000]\tLoss: 91.288048\n",
            "====> Epoch: 7 Average loss: 0.0974\n",
            "Train Epoch: 7 [6400/60000]\tLoss: 88.447372\n",
            "====> Epoch: 7 Average loss: 9.8023\n",
            "Train Epoch: 7 [12800/60000]\tLoss: 93.272675\n",
            "====> Epoch: 7 Average loss: 19.5665\n",
            "Train Epoch: 7 [19200/60000]\tLoss: 91.598885\n",
            "====> Epoch: 7 Average loss: 29.3355\n",
            "Train Epoch: 7 [25600/60000]\tLoss: 89.940865\n",
            "====> Epoch: 7 Average loss: 39.0905\n",
            "Train Epoch: 7 [32000/60000]\tLoss: 92.900620\n",
            "====> Epoch: 7 Average loss: 48.8680\n",
            "Train Epoch: 7 [38400/60000]\tLoss: 90.904648\n",
            "====> Epoch: 7 Average loss: 58.7010\n",
            "Train Epoch: 7 [44800/60000]\tLoss: 94.626572\n",
            "====> Epoch: 7 Average loss: 68.4849\n",
            "Train Epoch: 7 [51200/60000]\tLoss: 88.904221\n",
            "====> Epoch: 7 Average loss: 78.2449\n",
            "Train Epoch: 7 [57600/60000]\tLoss: 91.507751\n",
            "====> Epoch: 7 Average loss: 88.0092\n",
            "====> Test set loss: 94.7720\n",
            "Train Epoch: 8 [0/60000]\tLoss: 88.706367\n",
            "====> Epoch: 8 Average loss: 0.0946\n",
            "Train Epoch: 8 [6400/60000]\tLoss: 90.609314\n",
            "====> Epoch: 8 Average loss: 9.8995\n",
            "Train Epoch: 8 [12800/60000]\tLoss: 85.654572\n",
            "====> Epoch: 8 Average loss: 19.6145\n",
            "Train Epoch: 8 [19200/60000]\tLoss: 87.549805\n",
            "====> Epoch: 8 Average loss: 29.3669\n",
            "Train Epoch: 8 [25600/60000]\tLoss: 93.584366\n",
            "====> Epoch: 8 Average loss: 39.1113\n",
            "Train Epoch: 8 [32000/60000]\tLoss: 93.014709\n",
            "====> Epoch: 8 Average loss: 48.8677\n",
            "Train Epoch: 8 [38400/60000]\tLoss: 94.169876\n",
            "====> Epoch: 8 Average loss: 58.6842\n",
            "Train Epoch: 8 [44800/60000]\tLoss: 87.948914\n",
            "====> Epoch: 8 Average loss: 68.4589\n",
            "Train Epoch: 8 [51200/60000]\tLoss: 91.148621\n",
            "====> Epoch: 8 Average loss: 78.2433\n",
            "Train Epoch: 8 [57600/60000]\tLoss: 90.528000\n",
            "====> Epoch: 8 Average loss: 87.9990\n",
            "====> Test set loss: 94.5242\n",
            "Train Epoch: 9 [0/60000]\tLoss: 85.662720\n",
            "====> Epoch: 9 Average loss: 0.0914\n",
            "Train Epoch: 9 [6400/60000]\tLoss: 81.655121\n",
            "====> Epoch: 9 Average loss: 9.7633\n",
            "Train Epoch: 9 [12800/60000]\tLoss: 92.191925\n",
            "====> Epoch: 9 Average loss: 19.5637\n",
            "Train Epoch: 9 [19200/60000]\tLoss: 87.805290\n",
            "====> Epoch: 9 Average loss: 29.3746\n",
            "Train Epoch: 9 [25600/60000]\tLoss: 93.430893\n",
            "====> Epoch: 9 Average loss: 39.1123\n",
            "Train Epoch: 9 [32000/60000]\tLoss: 90.564667\n",
            "====> Epoch: 9 Average loss: 48.8201\n",
            "Train Epoch: 9 [38400/60000]\tLoss: 91.694656\n",
            "====> Epoch: 9 Average loss: 58.5988\n",
            "Train Epoch: 9 [44800/60000]\tLoss: 93.378250\n",
            "====> Epoch: 9 Average loss: 68.4568\n",
            "Train Epoch: 9 [51200/60000]\tLoss: 92.119186\n",
            "====> Epoch: 9 Average loss: 78.2601\n",
            "Train Epoch: 9 [57600/60000]\tLoss: 91.289665\n",
            "====> Epoch: 9 Average loss: 88.0695\n",
            "====> Test set loss: 94.6182\n",
            "Train Epoch: 10 [0/60000]\tLoss: 88.234726\n",
            "====> Epoch: 10 Average loss: 0.0941\n",
            "Train Epoch: 10 [6400/60000]\tLoss: 91.229736\n",
            "====> Epoch: 10 Average loss: 9.8228\n",
            "Train Epoch: 10 [12800/60000]\tLoss: 91.305740\n",
            "====> Epoch: 10 Average loss: 19.5627\n",
            "Train Epoch: 10 [19200/60000]\tLoss: 86.515442\n",
            "====> Epoch: 10 Average loss: 29.2978\n",
            "Train Epoch: 10 [25600/60000]\tLoss: 95.898155\n",
            "====> Epoch: 10 Average loss: 39.0357\n",
            "Train Epoch: 10 [32000/60000]\tLoss: 89.970413\n",
            "====> Epoch: 10 Average loss: 48.7905\n",
            "Train Epoch: 10 [38400/60000]\tLoss: 92.690353\n",
            "====> Epoch: 10 Average loss: 58.5717\n",
            "Train Epoch: 10 [44800/60000]\tLoss: 92.895950\n",
            "====> Epoch: 10 Average loss: 68.3910\n",
            "Train Epoch: 10 [51200/60000]\tLoss: 92.446869\n",
            "====> Epoch: 10 Average loss: 78.0985\n",
            "Train Epoch: 10 [57600/60000]\tLoss: 92.944550\n",
            "====> Epoch: 10 Average loss: 87.9728\n",
            "====> Test set loss: 94.8526\n"
          ],
          "name": "stdout"
        }
      ]
    },
    {
      "cell_type": "code",
      "metadata": {
        "id": "5MNlwF4dtXl1"
      },
      "source": [
        ""
      ],
      "execution_count": null,
      "outputs": []
    }
  ]
}